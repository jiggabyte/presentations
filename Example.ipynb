{
 "cells": [
  {
   "cell_type": "markdown",
   "id": "1ed01e4a",
   "metadata": {
    "slideshow": {
     "slide_type": "slide"
    }
   },
   "source": [
    "## This is a header\n",
    "This is text\n"
   ]
  },
  {
   "cell_type": "markdown",
   "id": "a05a76f0",
   "metadata": {
    "slideshow": {
     "slide_type": "slide"
    }
   },
   "source": [
    "## This is slide two\n",
    "\n",
    "- Here is a thought\n",
    "- And here is another thought"
   ]
  },
  {
   "cell_type": "code",
   "execution_count": null,
   "id": "89a4b122",
   "metadata": {},
   "outputs": [],
   "source": []
  }
 ],
 "metadata": {
  "celltoolbar": "Slideshow",
  "kernelspec": {
   "display_name": "presentations",
   "language": "python",
   "name": "presentations"
  },
  "language_info": {
   "codemirror_mode": {
    "name": "ipython",
    "version": 3
   },
   "file_extension": ".py",
   "mimetype": "text/x-python",
   "name": "python",
   "nbconvert_exporter": "python",
   "pygments_lexer": "ipython3",
   "version": "3.11.4"
  }
 },
 "nbformat": 4,
 "nbformat_minor": 5
}
