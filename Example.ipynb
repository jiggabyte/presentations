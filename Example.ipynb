{
 "cells": [
  {
   "cell_type": "markdown",
   "id": "1ed01e4a",
   "metadata": {
    "slideshow": {
     "slide_type": "slide"
    }
   },
   "source": [
    "## This is a header\n",
    "This is text\n"
   ]
  },
  {
   "cell_type": "markdown",
   "id": "a05a76f0",
   "metadata": {
    "slideshow": {
     "slide_type": "slide"
    }
   },
   "source": [
    "## This is slide two\n",
    "\n",
    "- Here is a thought\n",
    "- And here is another thought"
   ]
  },
  {
   "cell_type": "code",
   "execution_count": 2,
   "id": "89a4b122",
   "metadata": {},
   "outputs": [
    {
     "name": "stdout",
     "output_type": "stream",
     "text": [
      "jigga\n"
     ]
    }
   ],
   "source": [
    "print('jigga')"
   ]
  },
  {
   "cell_type": "markdown",
   "id": "dac7731b",
   "metadata": {},
   "source": [
    "## Hello world\n",
    "** my home"
   ]
  },
  {
   "cell_type": "code",
   "execution_count": null,
   "id": "b36ab07f",
   "metadata": {},
   "outputs": [],
   "source": []
  }
 ],
 "metadata": {
  "celltoolbar": "Slideshow",
  "kernelspec": {
   "display_name": "presentations",
   "language": "python",
   "name": "presentations"
  },
  "language_info": {
   "codemirror_mode": {
    "name": "ipython",
    "version": 3
   },
   "file_extension": ".py",
   "mimetype": "text/x-python",
   "name": "python",
   "nbconvert_exporter": "python",
   "pygments_lexer": "ipython3",
   "version": "3.11.4"
  }
 },
 "nbformat": 4,
 "nbformat_minor": 5
}
